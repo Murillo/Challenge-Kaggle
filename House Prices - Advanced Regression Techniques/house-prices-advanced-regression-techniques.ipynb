{
 "cells": [
  {
   "cell_type": "markdown",
   "metadata": {},
   "source": [
    "# House Prices: Advanced Regression Techniques\n",
    "\n",
    "Predict sales prices and practice feature engineering, RFs, and gradient boosting\n",
    "\n",
    "Link: <a href=\"https://www.kaggle.com/c/house-prices-advanced-regression-techniques/data\">Kaggle challenge</a>\n",
    "\n",
    "### Libraries"
   ]
  },
  {
   "cell_type": "code",
   "execution_count": 1,
   "metadata": {},
   "outputs": [
    {
     "name": "stdout",
     "output_type": "stream",
     "text": [
      "Populating the interactive namespace from numpy and matplotlib\n"
     ]
    }
   ],
   "source": [
    "%pylab inline\n",
    "import numpy\n",
    "import pandas\n",
    "import matplotlib.pyplot as plt\n",
    "import seaborn as sns\n",
    "import sklearn\n",
    "from pylab import savefig\n",
    "from sklearn import preprocessing\n",
    "\n",
    "import warnings\n",
    "warnings.filterwarnings('ignore')"
   ]
  },
  {
   "cell_type": "markdown",
   "metadata": {},
   "source": [
    "### Helpers"
   ]
  },
  {
   "cell_type": "code",
   "execution_count": 2,
   "metadata": {},
   "outputs": [],
   "source": [
    "def get_name_zone(value):\n",
    "    if value == \"A\":\n",
    "        return \"Agriculture\"\n",
    "    elif value == \"C\":\n",
    "        return \"Commercial\"\n",
    "    elif value == \"FV\":\n",
    "        return \"Floating Village Residential\"\n",
    "    elif value == \"I\":\n",
    "        return \"Industrial\"\n",
    "    elif value == \"RH\":\n",
    "        return \"Residential High Density\"\n",
    "    elif value == \"RL\":\n",
    "        return \"Residential Low Density\"\n",
    "    elif value == \"RP\":\n",
    "        return \"Residential Low Density Park\"\n",
    "    elif value == \"RM\":\n",
    "        return \"Residential Medium Density\"\n",
    "    \n",
    "def get_name_shape(value):\n",
    "    if value == \"Reg\":\n",
    "        return \"Regular\"\n",
    "    elif value == \"IR1\":\n",
    "        return \"Slightly irregular\"\n",
    "    elif value == \"IR2\":\n",
    "        return \"Moderately Irregular\"\n",
    "    elif value == \"IR3\":\n",
    "        return \"Irregular\"\n",
    "    \n",
    "# Getting informations about mean and standard deviation\n",
    "def info_stats(value):\n",
    "    return ds.groupby(value)['SalePrice'].agg([\"mean\", \"std\"])\n",
    "\n",
    "def barplot_horizontal(column, title):\n",
    "    ds[column]\\\n",
    "        .value_counts()\\\n",
    "        .sort_values(ascending=True)\\\n",
    "        .plot(kind='barh', figsize=[14, 7], width=0.6, alpha=0.6, color='r',grid=False,title=title)\n",
    "\n",
    "# Showing infos in a plot boxplot\n",
    "def boxplot(val1, val2, xlabel, ylabel, title, rot):\n",
    "    ax = ds[[val1, val2]].boxplot(by=val2, figsize=(10, 6), rot=rot)\n",
    "    ax.set_xlabel(xlabel)\n",
    "    ax.set_ylabel(ylabel)\n",
    "    ax.set_title(title);\n",
    "    plt.suptitle('') "
   ]
  },
  {
   "cell_type": "markdown",
   "metadata": {},
   "source": [
    "### Global variables\n",
    "\n",
    "In this section, the variables that will be queried during the analysis will be initialized."
   ]
  },
  {
   "cell_type": "code",
   "execution_count": 3,
   "metadata": {},
   "outputs": [],
   "source": [
    "test = \"dataset/test.csv\"\n",
    "train = \"dataset/train.csv\""
   ]
  },
  {
   "cell_type": "markdown",
   "metadata": {},
   "source": [
    "### Importing datasets (train and test) to dataframe of pandas"
   ]
  },
  {
   "cell_type": "code",
   "execution_count": 4,
   "metadata": {},
   "outputs": [
    {
     "data": {
      "text/html": [
       "<div>\n",
       "<style scoped>\n",
       "    .dataframe tbody tr th:only-of-type {\n",
       "        vertical-align: middle;\n",
       "    }\n",
       "\n",
       "    .dataframe tbody tr th {\n",
       "        vertical-align: top;\n",
       "    }\n",
       "\n",
       "    .dataframe thead th {\n",
       "        text-align: right;\n",
       "    }\n",
       "</style>\n",
       "<table border=\"1\" class=\"dataframe\">\n",
       "  <thead>\n",
       "    <tr style=\"text-align: right;\">\n",
       "      <th></th>\n",
       "      <th>Id</th>\n",
       "      <th>MSSubClass</th>\n",
       "      <th>MSZoning</th>\n",
       "      <th>LotFrontage</th>\n",
       "      <th>LotArea</th>\n",
       "      <th>Street</th>\n",
       "      <th>Alley</th>\n",
       "      <th>LotShape</th>\n",
       "      <th>LandContour</th>\n",
       "      <th>Utilities</th>\n",
       "      <th>...</th>\n",
       "      <th>PoolArea</th>\n",
       "      <th>PoolQC</th>\n",
       "      <th>Fence</th>\n",
       "      <th>MiscFeature</th>\n",
       "      <th>MiscVal</th>\n",
       "      <th>MoSold</th>\n",
       "      <th>YrSold</th>\n",
       "      <th>SaleType</th>\n",
       "      <th>SaleCondition</th>\n",
       "      <th>SalePrice</th>\n",
       "    </tr>\n",
       "  </thead>\n",
       "  <tbody>\n",
       "    <tr>\n",
       "      <th>0</th>\n",
       "      <td>1</td>\n",
       "      <td>60</td>\n",
       "      <td>RL</td>\n",
       "      <td>65</td>\n",
       "      <td>8450</td>\n",
       "      <td>Pave</td>\n",
       "      <td>NaN</td>\n",
       "      <td>Reg</td>\n",
       "      <td>Lvl</td>\n",
       "      <td>AllPub</td>\n",
       "      <td>...</td>\n",
       "      <td>0</td>\n",
       "      <td>NaN</td>\n",
       "      <td>NaN</td>\n",
       "      <td>NaN</td>\n",
       "      <td>0</td>\n",
       "      <td>2</td>\n",
       "      <td>2008</td>\n",
       "      <td>WD</td>\n",
       "      <td>Normal</td>\n",
       "      <td>208500</td>\n",
       "    </tr>\n",
       "    <tr>\n",
       "      <th>1</th>\n",
       "      <td>2</td>\n",
       "      <td>20</td>\n",
       "      <td>RL</td>\n",
       "      <td>80</td>\n",
       "      <td>9600</td>\n",
       "      <td>Pave</td>\n",
       "      <td>NaN</td>\n",
       "      <td>Reg</td>\n",
       "      <td>Lvl</td>\n",
       "      <td>AllPub</td>\n",
       "      <td>...</td>\n",
       "      <td>0</td>\n",
       "      <td>NaN</td>\n",
       "      <td>NaN</td>\n",
       "      <td>NaN</td>\n",
       "      <td>0</td>\n",
       "      <td>5</td>\n",
       "      <td>2007</td>\n",
       "      <td>WD</td>\n",
       "      <td>Normal</td>\n",
       "      <td>181500</td>\n",
       "    </tr>\n",
       "    <tr>\n",
       "      <th>2</th>\n",
       "      <td>3</td>\n",
       "      <td>60</td>\n",
       "      <td>RL</td>\n",
       "      <td>68</td>\n",
       "      <td>11250</td>\n",
       "      <td>Pave</td>\n",
       "      <td>NaN</td>\n",
       "      <td>IR1</td>\n",
       "      <td>Lvl</td>\n",
       "      <td>AllPub</td>\n",
       "      <td>...</td>\n",
       "      <td>0</td>\n",
       "      <td>NaN</td>\n",
       "      <td>NaN</td>\n",
       "      <td>NaN</td>\n",
       "      <td>0</td>\n",
       "      <td>9</td>\n",
       "      <td>2008</td>\n",
       "      <td>WD</td>\n",
       "      <td>Normal</td>\n",
       "      <td>223500</td>\n",
       "    </tr>\n",
       "    <tr>\n",
       "      <th>3</th>\n",
       "      <td>4</td>\n",
       "      <td>70</td>\n",
       "      <td>RL</td>\n",
       "      <td>60</td>\n",
       "      <td>9550</td>\n",
       "      <td>Pave</td>\n",
       "      <td>NaN</td>\n",
       "      <td>IR1</td>\n",
       "      <td>Lvl</td>\n",
       "      <td>AllPub</td>\n",
       "      <td>...</td>\n",
       "      <td>0</td>\n",
       "      <td>NaN</td>\n",
       "      <td>NaN</td>\n",
       "      <td>NaN</td>\n",
       "      <td>0</td>\n",
       "      <td>2</td>\n",
       "      <td>2006</td>\n",
       "      <td>WD</td>\n",
       "      <td>Abnorml</td>\n",
       "      <td>140000</td>\n",
       "    </tr>\n",
       "    <tr>\n",
       "      <th>4</th>\n",
       "      <td>5</td>\n",
       "      <td>60</td>\n",
       "      <td>RL</td>\n",
       "      <td>84</td>\n",
       "      <td>14260</td>\n",
       "      <td>Pave</td>\n",
       "      <td>NaN</td>\n",
       "      <td>IR1</td>\n",
       "      <td>Lvl</td>\n",
       "      <td>AllPub</td>\n",
       "      <td>...</td>\n",
       "      <td>0</td>\n",
       "      <td>NaN</td>\n",
       "      <td>NaN</td>\n",
       "      <td>NaN</td>\n",
       "      <td>0</td>\n",
       "      <td>12</td>\n",
       "      <td>2008</td>\n",
       "      <td>WD</td>\n",
       "      <td>Normal</td>\n",
       "      <td>250000</td>\n",
       "    </tr>\n",
       "  </tbody>\n",
       "</table>\n",
       "<p>5 rows × 81 columns</p>\n",
       "</div>"
      ],
      "text/plain": [
       "  Id MSSubClass MSZoning LotFrontage LotArea Street Alley LotShape  \\\n",
       "0  1         60       RL          65    8450   Pave   NaN      Reg   \n",
       "1  2         20       RL          80    9600   Pave   NaN      Reg   \n",
       "2  3         60       RL          68   11250   Pave   NaN      IR1   \n",
       "3  4         70       RL          60    9550   Pave   NaN      IR1   \n",
       "4  5         60       RL          84   14260   Pave   NaN      IR1   \n",
       "\n",
       "  LandContour Utilities    ...    PoolArea PoolQC Fence MiscFeature MiscVal  \\\n",
       "0         Lvl    AllPub    ...           0    NaN   NaN         NaN       0   \n",
       "1         Lvl    AllPub    ...           0    NaN   NaN         NaN       0   \n",
       "2         Lvl    AllPub    ...           0    NaN   NaN         NaN       0   \n",
       "3         Lvl    AllPub    ...           0    NaN   NaN         NaN       0   \n",
       "4         Lvl    AllPub    ...           0    NaN   NaN         NaN       0   \n",
       "\n",
       "  MoSold YrSold SaleType SaleCondition SalePrice  \n",
       "0      2   2008       WD        Normal    208500  \n",
       "1      5   2007       WD        Normal    181500  \n",
       "2      9   2008       WD        Normal    223500  \n",
       "3      2   2006       WD       Abnorml    140000  \n",
       "4     12   2008       WD        Normal    250000  \n",
       "\n",
       "[5 rows x 81 columns]"
      ]
     },
     "execution_count": 4,
     "metadata": {},
     "output_type": "execute_result"
    }
   ],
   "source": [
    "ds = pandas.read_csv(train, sep=',', error_bad_lines=False, index_col=False, dtype='unicode')\n",
    "ds.head()"
   ]
  },
  {
   "cell_type": "markdown",
   "metadata": {},
   "source": [
    "### Getting informations about data"
   ]
  },
  {
   "cell_type": "code",
   "execution_count": 5,
   "metadata": {},
   "outputs": [
    {
     "data": {
      "text/plain": [
       "(1460, 81)"
      ]
     },
     "execution_count": 5,
     "metadata": {},
     "output_type": "execute_result"
    }
   ],
   "source": [
    "ds.shape"
   ]
  },
  {
   "cell_type": "code",
   "execution_count": 6,
   "metadata": {},
   "outputs": [
    {
     "data": {
      "text/html": [
       "<div>\n",
       "<style scoped>\n",
       "    .dataframe tbody tr th:only-of-type {\n",
       "        vertical-align: middle;\n",
       "    }\n",
       "\n",
       "    .dataframe tbody tr th {\n",
       "        vertical-align: top;\n",
       "    }\n",
       "\n",
       "    .dataframe thead th {\n",
       "        text-align: right;\n",
       "    }\n",
       "</style>\n",
       "<table border=\"1\" class=\"dataframe\">\n",
       "  <thead>\n",
       "    <tr style=\"text-align: right;\">\n",
       "      <th></th>\n",
       "      <th>Id</th>\n",
       "      <th>MSSubClass</th>\n",
       "      <th>MSZoning</th>\n",
       "      <th>LotFrontage</th>\n",
       "      <th>LotArea</th>\n",
       "      <th>Street</th>\n",
       "      <th>Alley</th>\n",
       "      <th>LotShape</th>\n",
       "      <th>LandContour</th>\n",
       "      <th>Utilities</th>\n",
       "      <th>...</th>\n",
       "      <th>PoolArea</th>\n",
       "      <th>PoolQC</th>\n",
       "      <th>Fence</th>\n",
       "      <th>MiscFeature</th>\n",
       "      <th>MiscVal</th>\n",
       "      <th>MoSold</th>\n",
       "      <th>YrSold</th>\n",
       "      <th>SaleType</th>\n",
       "      <th>SaleCondition</th>\n",
       "      <th>SalePrice</th>\n",
       "    </tr>\n",
       "  </thead>\n",
       "  <tbody>\n",
       "    <tr>\n",
       "      <th>count</th>\n",
       "      <td>1460</td>\n",
       "      <td>1460</td>\n",
       "      <td>1460</td>\n",
       "      <td>1201</td>\n",
       "      <td>1460</td>\n",
       "      <td>1460</td>\n",
       "      <td>91</td>\n",
       "      <td>1460</td>\n",
       "      <td>1460</td>\n",
       "      <td>1460</td>\n",
       "      <td>...</td>\n",
       "      <td>1460</td>\n",
       "      <td>7</td>\n",
       "      <td>281</td>\n",
       "      <td>54</td>\n",
       "      <td>1460</td>\n",
       "      <td>1460</td>\n",
       "      <td>1460</td>\n",
       "      <td>1460</td>\n",
       "      <td>1460</td>\n",
       "      <td>1460</td>\n",
       "    </tr>\n",
       "    <tr>\n",
       "      <th>unique</th>\n",
       "      <td>1460</td>\n",
       "      <td>15</td>\n",
       "      <td>5</td>\n",
       "      <td>110</td>\n",
       "      <td>1073</td>\n",
       "      <td>2</td>\n",
       "      <td>2</td>\n",
       "      <td>4</td>\n",
       "      <td>4</td>\n",
       "      <td>2</td>\n",
       "      <td>...</td>\n",
       "      <td>8</td>\n",
       "      <td>3</td>\n",
       "      <td>4</td>\n",
       "      <td>4</td>\n",
       "      <td>21</td>\n",
       "      <td>12</td>\n",
       "      <td>5</td>\n",
       "      <td>9</td>\n",
       "      <td>6</td>\n",
       "      <td>663</td>\n",
       "    </tr>\n",
       "    <tr>\n",
       "      <th>top</th>\n",
       "      <td>874</td>\n",
       "      <td>20</td>\n",
       "      <td>RL</td>\n",
       "      <td>60</td>\n",
       "      <td>7200</td>\n",
       "      <td>Pave</td>\n",
       "      <td>Grvl</td>\n",
       "      <td>Reg</td>\n",
       "      <td>Lvl</td>\n",
       "      <td>AllPub</td>\n",
       "      <td>...</td>\n",
       "      <td>0</td>\n",
       "      <td>Gd</td>\n",
       "      <td>MnPrv</td>\n",
       "      <td>Shed</td>\n",
       "      <td>0</td>\n",
       "      <td>6</td>\n",
       "      <td>2009</td>\n",
       "      <td>WD</td>\n",
       "      <td>Normal</td>\n",
       "      <td>140000</td>\n",
       "    </tr>\n",
       "    <tr>\n",
       "      <th>freq</th>\n",
       "      <td>1</td>\n",
       "      <td>536</td>\n",
       "      <td>1151</td>\n",
       "      <td>143</td>\n",
       "      <td>25</td>\n",
       "      <td>1454</td>\n",
       "      <td>50</td>\n",
       "      <td>925</td>\n",
       "      <td>1311</td>\n",
       "      <td>1459</td>\n",
       "      <td>...</td>\n",
       "      <td>1453</td>\n",
       "      <td>3</td>\n",
       "      <td>157</td>\n",
       "      <td>49</td>\n",
       "      <td>1408</td>\n",
       "      <td>253</td>\n",
       "      <td>338</td>\n",
       "      <td>1267</td>\n",
       "      <td>1198</td>\n",
       "      <td>20</td>\n",
       "    </tr>\n",
       "  </tbody>\n",
       "</table>\n",
       "<p>4 rows × 81 columns</p>\n",
       "</div>"
      ],
      "text/plain": [
       "          Id MSSubClass MSZoning LotFrontage LotArea Street Alley LotShape  \\\n",
       "count   1460       1460     1460        1201    1460   1460    91     1460   \n",
       "unique  1460         15        5         110    1073      2     2        4   \n",
       "top      874         20       RL          60    7200   Pave  Grvl      Reg   \n",
       "freq       1        536     1151         143      25   1454    50      925   \n",
       "\n",
       "       LandContour Utilities    ...    PoolArea PoolQC  Fence MiscFeature  \\\n",
       "count         1460      1460    ...        1460      7    281          54   \n",
       "unique           4         2    ...           8      3      4           4   \n",
       "top            Lvl    AllPub    ...           0     Gd  MnPrv        Shed   \n",
       "freq          1311      1459    ...        1453      3    157          49   \n",
       "\n",
       "       MiscVal MoSold YrSold SaleType SaleCondition SalePrice  \n",
       "count     1460   1460   1460     1460          1460      1460  \n",
       "unique      21     12      5        9             6       663  \n",
       "top          0      6   2009       WD        Normal    140000  \n",
       "freq      1408    253    338     1267          1198        20  \n",
       "\n",
       "[4 rows x 81 columns]"
      ]
     },
     "execution_count": 6,
     "metadata": {},
     "output_type": "execute_result"
    }
   ],
   "source": [
    "ds.describe()"
   ]
  },
  {
   "cell_type": "markdown",
   "metadata": {},
   "source": [
    "### Checking the amount of null data in the file"
   ]
  },
  {
   "cell_type": "code",
   "execution_count": 7,
   "metadata": {},
   "outputs": [
    {
     "name": "stdout",
     "output_type": "stream",
     "text": [
      "Number of missing data on LotFrontage: 259\n",
      "Number of missing data on Alley: 1369\n",
      "Number of missing data on MasVnrType: 8\n",
      "Number of missing data on MasVnrArea: 8\n",
      "Number of missing data on BsmtQual: 37\n",
      "Number of missing data on BsmtCond: 37\n",
      "Number of missing data on BsmtExposure: 38\n",
      "Number of missing data on BsmtFinType1: 37\n",
      "Number of missing data on BsmtFinType2: 38\n",
      "Number of missing data on Electrical: 1\n",
      "Number of missing data on FireplaceQu: 690\n",
      "Number of missing data on GarageType: 81\n",
      "Number of missing data on GarageYrBlt: 81\n",
      "Number of missing data on GarageFinish: 81\n",
      "Number of missing data on GarageQual: 81\n",
      "Number of missing data on GarageCond: 81\n",
      "Number of missing data on PoolQC: 1453\n",
      "Number of missing data on Fence: 1179\n",
      "Number of missing data on MiscFeature: 1406\n"
     ]
    }
   ],
   "source": [
    "for col in list(ds.columns.values):\n",
    "    if ds[col].isnull().values.sum() > 0:\n",
    "        print (\"Number of missing data on \" + col + \":\" ,ds[col].isnull().values.sum())"
   ]
  },
  {
   "cell_type": "markdown",
   "metadata": {},
   "source": [
    "### Verifying the relation of <i>zones</i> with the average price"
   ]
  },
  {
   "cell_type": "code",
   "execution_count": 8,
   "metadata": {},
   "outputs": [],
   "source": [
    "# Converting data type\n",
    "ds['SalePrice'] = ds['SalePrice'].apply(pandas.to_numeric)\n",
    "ds['MSZoningDesc'] = ds['MSZoning'].apply(get_name_zone)"
   ]
  },
  {
   "cell_type": "code",
   "execution_count": 9,
   "metadata": {},
   "outputs": [
    {
     "data": {
      "text/html": [
       "<div>\n",
       "<style scoped>\n",
       "    .dataframe tbody tr th:only-of-type {\n",
       "        vertical-align: middle;\n",
       "    }\n",
       "\n",
       "    .dataframe tbody tr th {\n",
       "        vertical-align: top;\n",
       "    }\n",
       "\n",
       "    .dataframe thead th {\n",
       "        text-align: right;\n",
       "    }\n",
       "</style>\n",
       "<table border=\"1\" class=\"dataframe\">\n",
       "  <thead>\n",
       "    <tr style=\"text-align: right;\">\n",
       "      <th></th>\n",
       "      <th>mean</th>\n",
       "      <th>std</th>\n",
       "    </tr>\n",
       "    <tr>\n",
       "      <th>MSZoningDesc</th>\n",
       "      <th></th>\n",
       "      <th></th>\n",
       "    </tr>\n",
       "  </thead>\n",
       "  <tbody>\n",
       "    <tr>\n",
       "      <th>Floating Village Residential</th>\n",
       "      <td>214014.061538</td>\n",
       "      <td>52369.662067</td>\n",
       "    </tr>\n",
       "    <tr>\n",
       "      <th>Residential High Density</th>\n",
       "      <td>131558.375000</td>\n",
       "      <td>35714.118435</td>\n",
       "    </tr>\n",
       "    <tr>\n",
       "      <th>Residential Low Density</th>\n",
       "      <td>191004.994787</td>\n",
       "      <td>80766.341319</td>\n",
       "    </tr>\n",
       "    <tr>\n",
       "      <th>Residential Medium Density</th>\n",
       "      <td>126316.830275</td>\n",
       "      <td>48521.689833</td>\n",
       "    </tr>\n",
       "  </tbody>\n",
       "</table>\n",
       "</div>"
      ],
      "text/plain": [
       "                                       mean           std\n",
       "MSZoningDesc                                             \n",
       "Floating Village Residential  214014.061538  52369.662067\n",
       "Residential High Density      131558.375000  35714.118435\n",
       "Residential Low Density       191004.994787  80766.341319\n",
       "Residential Medium Density    126316.830275  48521.689833"
      ]
     },
     "execution_count": 9,
     "metadata": {},
     "output_type": "execute_result"
    }
   ],
   "source": [
    "# Showing results\n",
    "info_stats('MSZoningDesc')"
   ]
  },
  {
   "cell_type": "code",
   "execution_count": 10,
   "metadata": {},
   "outputs": [
    {
     "data": {
      "image/png": "[encoded data removed]",
      "text/plain": [
       "<Figure size 720x432 with 1 Axes>"
      ]
     },
     "metadata": {},
     "output_type": "display_data"
    }
   ],
   "source": [
    "boxplot('SalePrice', 'MSZoning', 'Zones', 'Price', 'Prices by zone', 45)"
   ]
  },
  {
   "cell_type": "markdown",
   "metadata": {},
   "source": [
    "In above plot, it is possible see many outliers data to Residential Low Density and it has more variability than other groups."
   ]
  },
  {
   "cell_type": "code",
   "execution_count": 11,
   "metadata": {},
   "outputs": [
    {
     "data": {
      "image/png": "[encoded data removed]",
      "text/plain": [
       "<Figure size 1008x504 with 1 Axes>"
      ]
     },
     "metadata": {},
     "output_type": "display_data"
    }
   ],
   "source": [
    "barplot_horizontal('MSZoning', 'Total zone residences per type')"
   ]
  },
  {
   "cell_type": "markdown",
   "metadata": {},
   "source": [
    "Analyzing the above images, it is possible to conclude that in the data obtained, there are more residences of the type \"Residential Low Density\", with a greater variability among their values, indicating that it is necessary to use more properties to predict their prices. Some types do not have as much variance and less quantity as \"Commercial\" and \"Residential High Density\""
   ]
  },
  {
   "cell_type": "markdown",
   "metadata": {},
   "source": [
    "### Verifying the relation between <i>shape of property</i> with the average price"
   ]
  },
  {
   "cell_type": "code",
   "execution_count": 12,
   "metadata": {},
   "outputs": [
    {
     "data": {
      "image/png": "[encoded data removed]",
      "text/plain": [
       "<Figure size 720x432 with 1 Axes>"
      ]
     },
     "metadata": {},
     "output_type": "display_data"
    }
   ],
   "source": [
    "ds['LotShapeDesc'] = ds['LotShape'].apply(get_name_shape)\n",
    "boxplot('SalePrice', 'LotShapeDesc', 'Shape of property', 'Price', 'Prices by shape of property', 45)"
   ]
  },
  {
   "cell_type": "code",
   "execution_count": 13,
   "metadata": {},
   "outputs": [
    {
     "data": {
      "text/html": [
       "<div>\n",
       "<style scoped>\n",
       "    .dataframe tbody tr th:only-of-type {\n",
       "        vertical-align: middle;\n",
       "    }\n",
       "\n",
       "    .dataframe tbody tr th {\n",
       "        vertical-align: top;\n",
       "    }\n",
       "\n",
       "    .dataframe thead th {\n",
       "        text-align: right;\n",
       "    }\n",
       "</style>\n",
       "<table border=\"1\" class=\"dataframe\">\n",
       "  <thead>\n",
       "    <tr style=\"text-align: right;\">\n",
       "      <th></th>\n",
       "      <th>mean</th>\n",
       "      <th>std</th>\n",
       "    </tr>\n",
       "    <tr>\n",
       "      <th>LotShapeDesc</th>\n",
       "      <th></th>\n",
       "      <th></th>\n",
       "    </tr>\n",
       "  </thead>\n",
       "  <tbody>\n",
       "    <tr>\n",
       "      <th>Irregular</th>\n",
       "      <td>216036.500000</td>\n",
       "      <td>82540.334855</td>\n",
       "    </tr>\n",
       "    <tr>\n",
       "      <th>Moderately Irregular</th>\n",
       "      <td>239833.365854</td>\n",
       "      <td>99669.427362</td>\n",
       "    </tr>\n",
       "    <tr>\n",
       "      <th>Regular</th>\n",
       "      <td>164754.818378</td>\n",
       "      <td>69673.427215</td>\n",
       "    </tr>\n",
       "    <tr>\n",
       "      <th>Slightly irregular</th>\n",
       "      <td>206101.665289</td>\n",
       "      <td>85858.489559</td>\n",
       "    </tr>\n",
       "  </tbody>\n",
       "</table>\n",
       "</div>"
      ],
      "text/plain": [
       "                               mean           std\n",
       "LotShapeDesc                                     \n",
       "Irregular             216036.500000  82540.334855\n",
       "Moderately Irregular  239833.365854  99669.427362\n",
       "Regular               164754.818378  69673.427215\n",
       "Slightly irregular    206101.665289  85858.489559"
      ]
     },
     "execution_count": 13,
     "metadata": {},
     "output_type": "execute_result"
    }
   ],
   "source": [
    "info_stats('LotShapeDesc')"
   ]
  },
  {
   "cell_type": "code",
   "execution_count": 14,
   "metadata": {},
   "outputs": [
    {
     "data": {
      "image/png": "[encoded data removed]",
      "text/plain": [
       "<Figure size 1008x504 with 1 Axes>"
      ]
     },
     "metadata": {},
     "output_type": "display_data"
    }
   ],
   "source": [
    "barplot_horizontal('LotShapeDesc', 'Total of shape of property')"
   ]
  },
  {
   "cell_type": "markdown",
   "metadata": {},
   "source": [
    "In the above plots, it is possible to observe that there are more properties of the regular format, presenting outliers data as well. The price variance of the types of formats are not dissimilar. Properties of type \"Moderately Irregular\" have a higher average prices and \"Regular\" properties are the cheapest."
   ]
  },
  {
   "cell_type": "markdown",
   "metadata": {},
   "source": [
    "### Pearson Correlation\n",
    "\n",
    "In this sections, the types data will be changed in numeric for be able to use in Pearson Correlation technique."
   ]
  },
  {
   "cell_type": "code",
   "execution_count": 26,
   "metadata": {},
   "outputs": [],
   "source": [
    "ds['OverallCond'] = ds['OverallCond'].apply(pandas.to_numeric)\n",
    "ds['MSSubClass'] = ds['MSSubClass'].apply(pandas.to_numeric)\n",
    "ds['OverallQual'] = ds['OverallQual'].apply(pandas.to_numeric)\n",
    "ds['LotArea'] = ds['LotArea'].apply(pandas.to_numeric)\n",
    "ds['YearBuilt'] = ds['YearBuilt'].apply(pandas.to_numeric)\n",
    "#ds['LotFrontage'] = ds['LotFrontage'].apply(pandas.to_numeric)"
   ]
  },
  {
   "cell_type": "code",
   "execution_count": 27,
   "metadata": {},
   "outputs": [
    {
     "data": {
      "text/html": [
       "<div>\n",
       "<style scoped>\n",
       "    .dataframe tbody tr th:only-of-type {\n",
       "        vertical-align: middle;\n",
       "    }\n",
       "\n",
       "    .dataframe tbody tr th {\n",
       "        vertical-align: top;\n",
       "    }\n",
       "\n",
       "    .dataframe thead th {\n",
       "        text-align: right;\n",
       "    }\n",
       "</style>\n",
       "<table border=\"1\" class=\"dataframe\">\n",
       "  <thead>\n",
       "    <tr style=\"text-align: right;\">\n",
       "      <th></th>\n",
       "      <th>OverallCond</th>\n",
       "      <th>OverallQual</th>\n",
       "      <th>MSSubClass</th>\n",
       "      <th>MSZoning</th>\n",
       "      <th>SalePrice</th>\n",
       "      <th>LotArea</th>\n",
       "      <th>Neighborhood</th>\n",
       "      <th>YearBuilt</th>\n",
       "    </tr>\n",
       "  </thead>\n",
       "  <tbody>\n",
       "    <tr>\n",
       "      <th>0</th>\n",
       "      <td>5</td>\n",
       "      <td>7</td>\n",
       "      <td>60</td>\n",
       "      <td>3</td>\n",
       "      <td>208500</td>\n",
       "      <td>8450</td>\n",
       "      <td>5</td>\n",
       "      <td>2003</td>\n",
       "    </tr>\n",
       "    <tr>\n",
       "      <th>1</th>\n",
       "      <td>8</td>\n",
       "      <td>6</td>\n",
       "      <td>20</td>\n",
       "      <td>3</td>\n",
       "      <td>181500</td>\n",
       "      <td>9600</td>\n",
       "      <td>24</td>\n",
       "      <td>1976</td>\n",
       "    </tr>\n",
       "    <tr>\n",
       "      <th>2</th>\n",
       "      <td>5</td>\n",
       "      <td>7</td>\n",
       "      <td>60</td>\n",
       "      <td>3</td>\n",
       "      <td>223500</td>\n",
       "      <td>11250</td>\n",
       "      <td>5</td>\n",
       "      <td>2001</td>\n",
       "    </tr>\n",
       "    <tr>\n",
       "      <th>3</th>\n",
       "      <td>5</td>\n",
       "      <td>7</td>\n",
       "      <td>70</td>\n",
       "      <td>3</td>\n",
       "      <td>140000</td>\n",
       "      <td>9550</td>\n",
       "      <td>6</td>\n",
       "      <td>1915</td>\n",
       "    </tr>\n",
       "    <tr>\n",
       "      <th>4</th>\n",
       "      <td>5</td>\n",
       "      <td>8</td>\n",
       "      <td>60</td>\n",
       "      <td>3</td>\n",
       "      <td>250000</td>\n",
       "      <td>14260</td>\n",
       "      <td>15</td>\n",
       "      <td>2000</td>\n",
       "    </tr>\n",
       "  </tbody>\n",
       "</table>\n",
       "</div>"
      ],
      "text/plain": [
       "   OverallCond  OverallQual  MSSubClass  MSZoning  SalePrice  LotArea  \\\n",
       "0            5            7          60         3     208500     8450   \n",
       "1            8            6          20         3     181500     9600   \n",
       "2            5            7          60         3     223500    11250   \n",
       "3            5            7          70         3     140000     9550   \n",
       "4            5            8          60         3     250000    14260   \n",
       "\n",
       "   Neighborhood  YearBuilt  \n",
       "0             5       2003  \n",
       "1            24       1976  \n",
       "2             5       2001  \n",
       "3             6       1915  \n",
       "4            15       2000  "
      ]
     },
     "execution_count": 27,
     "metadata": {},
     "output_type": "execute_result"
    }
   ],
   "source": [
    "ds_corr = ds[['OverallCond', 'OverallQual', 'MSSubClass', 'MSZoning', 'SalePrice', 'LotArea', 'Neighborhood', 'YearBuilt']]\\\n",
    "    .assign(MSZoning=ds.MSZoning.astype('category').cat.codes)\\\n",
    "    .assign(Neighborhood=ds.Neighborhood.astype('category').cat.codes)\n",
    "ds_corr.head()"
   ]
  },
  {
   "cell_type": "markdown",
   "metadata": {},
   "source": [
    "Normalizing the data between 0 and 1."
   ]
  },
  {
   "cell_type": "code",
   "execution_count": 28,
   "metadata": {},
   "outputs": [
    {
     "data": {
      "text/html": [
       "<div>\n",
       "<style scoped>\n",
       "    .dataframe tbody tr th:only-of-type {\n",
       "        vertical-align: middle;\n",
       "    }\n",
       "\n",
       "    .dataframe tbody tr th {\n",
       "        vertical-align: top;\n",
       "    }\n",
       "\n",
       "    .dataframe thead th {\n",
       "        text-align: right;\n",
       "    }\n",
       "</style>\n",
       "<table border=\"1\" class=\"dataframe\">\n",
       "  <thead>\n",
       "    <tr style=\"text-align: right;\">\n",
       "      <th></th>\n",
       "      <th>OverallCond</th>\n",
       "      <th>OverallQual</th>\n",
       "      <th>MSSubClass</th>\n",
       "      <th>MSZoning</th>\n",
       "      <th>SalePrice</th>\n",
       "      <th>LotArea</th>\n",
       "      <th>Neighborhood</th>\n",
       "      <th>YearBuilt</th>\n",
       "    </tr>\n",
       "  </thead>\n",
       "  <tbody>\n",
       "    <tr>\n",
       "      <th>0</th>\n",
       "      <td>0.500</td>\n",
       "      <td>0.666667</td>\n",
       "      <td>0.235294</td>\n",
       "      <td>0.75</td>\n",
       "      <td>0.241078</td>\n",
       "      <td>0.033420</td>\n",
       "      <td>0.208333</td>\n",
       "      <td>0.949275</td>\n",
       "    </tr>\n",
       "    <tr>\n",
       "      <th>1</th>\n",
       "      <td>0.875</td>\n",
       "      <td>0.555556</td>\n",
       "      <td>0.000000</td>\n",
       "      <td>0.75</td>\n",
       "      <td>0.203583</td>\n",
       "      <td>0.038795</td>\n",
       "      <td>1.000000</td>\n",
       "      <td>0.753623</td>\n",
       "    </tr>\n",
       "    <tr>\n",
       "      <th>2</th>\n",
       "      <td>0.500</td>\n",
       "      <td>0.666667</td>\n",
       "      <td>0.235294</td>\n",
       "      <td>0.75</td>\n",
       "      <td>0.261908</td>\n",
       "      <td>0.046507</td>\n",
       "      <td>0.208333</td>\n",
       "      <td>0.934783</td>\n",
       "    </tr>\n",
       "    <tr>\n",
       "      <th>3</th>\n",
       "      <td>0.500</td>\n",
       "      <td>0.666667</td>\n",
       "      <td>0.294118</td>\n",
       "      <td>0.75</td>\n",
       "      <td>0.145952</td>\n",
       "      <td>0.038561</td>\n",
       "      <td>0.250000</td>\n",
       "      <td>0.311594</td>\n",
       "    </tr>\n",
       "    <tr>\n",
       "      <th>4</th>\n",
       "      <td>0.500</td>\n",
       "      <td>0.777778</td>\n",
       "      <td>0.235294</td>\n",
       "      <td>0.75</td>\n",
       "      <td>0.298709</td>\n",
       "      <td>0.060576</td>\n",
       "      <td>0.625000</td>\n",
       "      <td>0.927536</td>\n",
       "    </tr>\n",
       "  </tbody>\n",
       "</table>\n",
       "</div>"
      ],
      "text/plain": [
       "   OverallCond  OverallQual  MSSubClass  MSZoning  SalePrice   LotArea  \\\n",
       "0        0.500     0.666667    0.235294      0.75   0.241078  0.033420   \n",
       "1        0.875     0.555556    0.000000      0.75   0.203583  0.038795   \n",
       "2        0.500     0.666667    0.235294      0.75   0.261908  0.046507   \n",
       "3        0.500     0.666667    0.294118      0.75   0.145952  0.038561   \n",
       "4        0.500     0.777778    0.235294      0.75   0.298709  0.060576   \n",
       "\n",
       "   Neighborhood  YearBuilt  \n",
       "0      0.208333   0.949275  \n",
       "1      1.000000   0.753623  \n",
       "2      0.208333   0.934783  \n",
       "3      0.250000   0.311594  \n",
       "4      0.625000   0.927536  "
      ]
     },
     "execution_count": 28,
     "metadata": {},
     "output_type": "execute_result"
    }
   ],
   "source": [
    "min_max_scaler = preprocessing.MinMaxScaler()\n",
    "x_scaled = min_max_scaler.fit_transform(ds_corr)\n",
    "df_norm = pandas.DataFrame(x_scaled)\n",
    "df_norm.columns = ['OverallCond', 'OverallQual', 'MSSubClass', 'MSZoning', 'SalePrice', 'LotArea', 'Neighborhood', 'YearBuilt']\n",
    "df_norm.head()"
   ]
  },
  {
   "cell_type": "code",
   "execution_count": 31,
   "metadata": {},
   "outputs": [
    {
     "data": {
      "image/png": "[encoded data removed]",
      "text/plain": [
       "<Figure size 1152x432 with 2 Axes>"
      ]
     },
     "metadata": {},
     "output_type": "display_data"
    }
   ],
   "source": [
    "plt.figure(figsize = (16,6))\n",
    "sns.heatmap(df_norm.corr(), annot=True, fmt=\".4f\", vmin=-1, vmax=1, linewidths=.5)\n",
    "plt.show()"
   ]
  }
 ],
 "metadata": {
  "kernelspec": {
   "display_name": "Python 3",
   "language": "python",
   "name": "python3"
  },
  "language_info": {
   "codemirror_mode": {
    "name": "ipython",
    "version": 3
   },
   "file_extension": ".py",
   "mimetype": "text/x-python",
   "name": "python",
   "nbconvert_exporter": "python",
   "pygments_lexer": "ipython3",
   "version": "3.5.5"
  }
 },
 "nbformat": 4,
 "nbformat_minor": 2
}
